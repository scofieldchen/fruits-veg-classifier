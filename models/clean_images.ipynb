{
 "cells": [
  {
   "cell_type": "markdown",
   "metadata": {},
   "source": [
    "# 清洗图像\n",
    "\n",
    "最佳实践：\n",
    "\n",
    "1. 处理重复数据。\n",
    "2. 删除无关图像。\n",
    "3. 处理损坏图像。"
   ]
  },
  {
   "cell_type": "code",
   "execution_count": 1,
   "metadata": {},
   "outputs": [],
   "source": [
    "import os\n",
    "\n",
    "import cv2\n",
    "import numpy as np\n",
    "import pandas as pd\n",
    "import matplotlib.pyplot as plt"
   ]
  },
  {
   "cell_type": "markdown",
   "metadata": {},
   "source": [
    "原始图像数据集存在两个问题：\n",
    "\n",
    "1. 存在损坏图像。\n",
    "2. 使用Opencv读取png时有时候会出现警告：`libpng warning: iCCP: known incorrect sRGB profile`。因为图像的iCCP块中包含不正确或过时的 sRGB配置文件。与以前的版本相比，Libpng-1.6对ICC配置文件的检查更加严格。\n",
    "\n",
    "如何处理？\n",
    "\n",
    "1. 删除损坏的图像。\n",
    "2. 对于警告信息，如果该警告不会给应用程序带来问题，可以忽略它。在训练Tensorflow模型时，如果不想看到这些警告，可以使用`tf.logging.set_verbosity(tf.logging.ERROR)`，将日志级别设置为ERROR。也可以使用pngcrush等命令行工具删除PNG图像中的iCCP块.\n",
    "\n",
    "参考：[How to handle incorrect sRGB profile?](https://stackoverflow.com/questions/22745076/libpng-warning-iccp-known-incorrect-srgb-profile?rq=2)"
   ]
  },
  {
   "cell_type": "code",
   "execution_count": 2,
   "metadata": {},
   "outputs": [],
   "source": [
    "def delete_corrupted_images(directory: str) -> None:\n",
    "    class_names = os.listdir(directory)\n",
    "    for name in class_names:\n",
    "        sub_dir = os.path.join(directory, name)\n",
    "        if os.path.isdir(sub_dir):\n",
    "            for image_file in os.listdir(sub_dir):\n",
    "                image_path = os.path.join(sub_dir, image_file)\n",
    "                try:\n",
    "                    img = cv2.imread(image_path)\n",
    "                    if img is None:\n",
    "                        print(f\"Deleting {image_path}\")\n",
    "                        os.remove(image_path)\n",
    "                except:\n",
    "                    print(f\"Deleting {image_path}\")\n",
    "                    os.remove(image_path)"
   ]
  },
  {
   "cell_type": "code",
   "execution_count": 4,
   "metadata": {},
   "outputs": [
    {
     "name": "stderr",
     "output_type": "stream",
     "text": [
      "libpng warning: iCCP: known incorrect sRGB profile\n",
      "libpng warning: iCCP: known incorrect sRGB profile\n",
      "libpng warning: iCCP: known incorrect sRGB profile\n",
      "libpng warning: iCCP: known incorrect sRGB profile\n",
      "libpng warning: iCCP: known incorrect sRGB profile\n",
      "libpng warning: iCCP: known incorrect sRGB profile\n",
      "libpng warning: iCCP: known incorrect sRGB profile\n",
      "libpng warning: iCCP: known incorrect sRGB profile\n",
      "libpng warning: iCCP: known incorrect sRGB profile\n",
      "libpng warning: iCCP: known incorrect sRGB profile\n",
      "libpng warning: iCCP: known incorrect sRGB profile\n",
      "libpng warning: iCCP: known incorrect sRGB profile\n",
      "libpng warning: iCCP: known incorrect sRGB profile\n",
      "libpng warning: iCCP: known incorrect sRGB profile\n",
      "libpng warning: iCCP: known incorrect sRGB profile\n",
      "libpng warning: iCCP: known incorrect sRGB profile\n",
      "libpng warning: iCCP: known incorrect sRGB profile\n",
      "libpng warning: iCCP: known incorrect sRGB profile\n",
      "libpng warning: iCCP: known incorrect sRGB profile\n",
      "libpng warning: iCCP: known incorrect sRGB profile\n",
      "libpng warning: iCCP: known incorrect sRGB profile\n",
      "libpng warning: iCCP: known incorrect sRGB profile\n",
      "libpng warning: iCCP: known incorrect sRGB profile\n",
      "libpng warning: iCCP: known incorrect sRGB profile\n",
      "libpng warning: iCCP: known incorrect sRGB profile\n",
      "libpng warning: iCCP: known incorrect sRGB profile\n",
      "libpng warning: iCCP: known incorrect sRGB profile\n"
     ]
    }
   ],
   "source": [
    "delete_corrupted_images(\"../data/train\")\n",
    "delete_corrupted_images(\"../data/validation\")\n",
    "delete_corrupted_images(\"../data/test\")"
   ]
  },
  {
   "cell_type": "code",
   "execution_count": null,
   "metadata": {},
   "outputs": [],
   "source": []
  }
 ],
 "metadata": {
  "kernelspec": {
   "display_name": "fruits-veg-classifier",
   "language": "python",
   "name": "python3"
  },
  "language_info": {
   "codemirror_mode": {
    "name": "ipython",
    "version": 3
   },
   "file_extension": ".py",
   "mimetype": "text/x-python",
   "name": "python",
   "nbconvert_exporter": "python",
   "pygments_lexer": "ipython3",
   "version": "3.11.6"
  }
 },
 "nbformat": 4,
 "nbformat_minor": 2
}
